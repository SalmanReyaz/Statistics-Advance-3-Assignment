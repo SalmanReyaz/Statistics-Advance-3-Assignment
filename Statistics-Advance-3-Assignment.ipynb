{
 "cells": [
  {
   "cell_type": "markdown",
   "id": "f027e3d6",
   "metadata": {},
   "source": [
    "# Q1: What is Estimation Statistics? Explain point estimate and interval estimate."
   ]
  },
  {
   "cell_type": "markdown",
   "id": "c385e7b2",
   "metadata": {},
   "source": [
    "## Estimation statistics is a branch of statistics that deals with the process of estimating population parameters (such as the population mean, variance, proportion, etc.) based on information obtained from a sample.\n",
    "## It is an observed numerical value used to estimate an unknown population parameter.\n",
    "\n",
    "\n",
    "\n",
    "- Point Estimate:- Single Numerical Value used to estimate the unknown population parameter.\n",
    "    sample mean is a point estimate of a population mean.\n",
    "    \n",
    "    \n",
    "- Interval Estimate:- Range of value used to estimate the unknown population parameter.\n",
    "    Interval estimate of population parameter are called confidence Interval.\n",
    "    "
   ]
  },
  {
   "cell_type": "code",
   "execution_count": null,
   "id": "5f24b473",
   "metadata": {},
   "outputs": [],
   "source": []
  },
  {
   "cell_type": "code",
   "execution_count": 1,
   "id": "4fe129b6",
   "metadata": {},
   "outputs": [],
   "source": [
    "# Q2. Write a Python function to estimate the population mean using a sample mean and standard deviation."
   ]
  },
  {
   "cell_type": "code",
   "execution_count": 3,
   "id": "21776ae6",
   "metadata": {},
   "outputs": [
    {
     "name": "stdout",
     "output_type": "stream",
     "text": [
      "Estimated Population Mean: 50\n",
      "Confidence Interval (95%): [48.04, 51.96]\n"
     ]
    }
   ],
   "source": [
    "import math\n",
    "\n",
    "def estimate_population_mean(sample_mean, sample_std_dev, sample_size):\n",
    "   \n",
    "    # Calculate the standard error of the mean (SEM)\n",
    "    standard_error = sample_std_dev / math.sqrt(sample_size)\n",
    "    \n",
    "    # Calculate the margin of error (MOE) for a desired confidence level (e.g., 95%)\n",
    "    # For a 95% confidence interval, you can use a critical z-value of approximately 1.96\n",
    "    critical_z = 1.96\n",
    "    margin_of_error = critical_z * standard_error\n",
    "    \n",
    "    # Calculate the lower and upper bounds of the confidence interval\n",
    "    lower_bound = sample_mean - margin_of_error\n",
    "    upper_bound = sample_mean + margin_of_error\n",
    "    \n",
    "    return lower_bound, upper_bound\n",
    "\n",
    "# Example usage:\n",
    "sample_mean = 50  # Sample mean\n",
    "sample_std_dev = 10  # Sample standard deviation\n",
    "sample_size = 100  # Sample size\n",
    "\n",
    "# Estimate the population mean and calculate the confidence interval\n",
    "lower, upper = estimate_population_mean(sample_mean, sample_std_dev, sample_size)\n",
    "\n",
    "print(f\"Estimated Population Mean: {sample_mean}\")\n",
    "print(f\"Confidence Interval (95%): [{lower:.2f}, {upper:.2f}]\")\n"
   ]
  },
  {
   "cell_type": "code",
   "execution_count": null,
   "id": "884fe819",
   "metadata": {},
   "outputs": [],
   "source": []
  },
  {
   "cell_type": "code",
   "execution_count": 4,
   "id": "60d20132",
   "metadata": {},
   "outputs": [],
   "source": [
    "# Q3: What is Hypothesis testing? Why is it used? State the importance of Hypothesis testing."
   ]
  },
  {
   "cell_type": "raw",
   "id": "e0a8e718",
   "metadata": {},
   "source": [
    "Hypothesis testing is a fundamental concept in statistics and research that involves making inferences about a population based on sample data. It is a systematic process used to evaluate two competing hypotheses: the null hypothesis (H0) and the alternative hypothesis (Ha or H1). \n",
    "\n",
    "Hypothesis Testing is a type of statistical analysis in which you put your assumptions about a population parameter to the test. It is used to estimate the relationship between 2 statistical variables.\n",
    "Eg:-A teacher assumes that 60% of his college's students come from lower-middle-class families.\n",
    "\n",
    "\n",
    "\n",
    "\n",
    "Hypothesis testing helps decision-makers, scientists, and researchers draw conclusions about the effects of interventions, treatments, or changes in processes.\n",
    "\n",
    "\n",
    "In industry and manufacturing, hypothesis testing is used to monitor processes and ensure product quality.\n",
    "\n",
    "The results of hypothesis tests can be generalized to the broader population from which the sample was drawn, allowing researchers to make broader claims.\n"
   ]
  },
  {
   "cell_type": "code",
   "execution_count": null,
   "id": "591946b9",
   "metadata": {},
   "outputs": [],
   "source": []
  },
  {
   "cell_type": "markdown",
   "id": "19e3a6e1",
   "metadata": {},
   "source": [
    "# Q4. Create a hypothesis that states whether the average weight of male college students is greater than the average weight of female college students."
   ]
  },
  {
   "cell_type": "markdown",
   "id": "7e6ba272",
   "metadata": {},
   "source": [
    "## Hypothesis testing is a statistical method used to evaluate a hypothesis by comparing sample data to a null hypothesis. In this case, you want to test whether the average weight of male college students is greater than the average weight of female college students. Here's how you can set up the hypothesis test:\n",
    "\n",
    "\n",
    "`Null Hypothesis (H0): The average weight of male college students is equal to or less than the average weight of female college students.`\n",
    "\n",
    "# Alternative Hypothesis (Ha): The average weight of male college students is greater than the average weight of female college students."
   ]
  },
  {
   "cell_type": "code",
   "execution_count": 6,
   "id": "118e64c2",
   "metadata": {},
   "outputs": [
    {
     "name": "stdout",
     "output_type": "stream",
     "text": [
      "Reject the null hypothesis: The average weight of male college students is greater than that of female college students.\n"
     ]
    }
   ],
   "source": [
    "import numpy as np\n",
    "import scipy.stats as stats\n",
    "\n",
    "# Sample data (replace with your actual data)\n",
    "male_weights = np.array([70, 75, 72, 78, 80, 76, 74, 79, 73, 77])\n",
    "female_weights = np.array([55, 58, 62, 59, 63, 60, 57, 61, 56, 65])\n",
    "\n",
    "# Perform a two-sample t-test assuming unequal variances (independent samples)\n",
    "# This is because we want to compare two independent groups (male and female students)\n",
    "t_statistic, p_value = stats.ttest_ind(male_weights, female_weights, equal_var=False)\n",
    "\n",
    "# Define the significance level (alpha)\n",
    "alpha = 0.05\n",
    "\n",
    "# Check if the p-value is less than alpha to determine significance\n",
    "if p_value < alpha:\n",
    "    print(\"Reject the null hypothesis: The average weight of male college students is greater than that of female college students.\")\n",
    "else:\n",
    "    print(\"Fail to reject the null hypothesis: There is not enough evidence to conclude a difference in average weights.\")\n"
   ]
  },
  {
   "cell_type": "code",
   "execution_count": null,
   "id": "08bbf4e2",
   "metadata": {},
   "outputs": [],
   "source": []
  },
  {
   "cell_type": "markdown",
   "id": "ad581966",
   "metadata": {},
   "source": [
    "# Q5. Write a Python script to conduct a hypothesis test on the difference between two population means, given a sample from each population."
   ]
  },
  {
   "cell_type": "code",
   "execution_count": 22,
   "id": "0a3aa655",
   "metadata": {},
   "outputs": [
    {
     "name": "stdout",
     "output_type": "stream",
     "text": [
      "Sample 1 Mean: 87.40\n",
      "Sample 2 Mean: 83.40\n",
      "T-Statistic: 1.4991\n",
      "P-Value: 0.1722\n",
      "Fail to reject the null hypothesis: There is no significant difference between the population means.\n"
     ]
    }
   ],
   "source": [
    "import numpy as np\n",
    "import scipy.stats as stats\n",
    "\n",
    "# Define two sets of sample data\n",
    "sample1 = np.array([82, 85, 88, 90, 92])\n",
    "sample2 = np.array([78, 80, 84, 86, 89])\n",
    "\n",
    "# Perform a two-sample independent t-test\n",
    "t_statistic, p_value = stats.ttest_ind(sample1, sample2,equal_var=True)\n",
    "\n",
    "# Define the significance level (alpha)\n",
    "alpha = 0.01\n",
    "\n",
    "# Print the results of the hypothesis test\n",
    "print(f\"Sample 1 Mean: {np.mean(sample1):.2f}\")\n",
    "print(f\"Sample 2 Mean: {np.mean(sample2):.2f}\")\n",
    "print(f\"T-Statistic: {t_statistic:.4f}\")\n",
    "print(f\"P-Value: {p_value:.4f}\")\n",
    "\n",
    "# Check if the p-value is less than alpha to determine significance\n",
    "if p_value < alpha:\n",
    "    print(\"Reject the null hypothesis: There is a significant difference between the population means.\")\n",
    "else:\n",
    "    print(\"Fail to reject the null hypothesis: There is no significant difference between the population means.\")\n"
   ]
  },
  {
   "cell_type": "code",
   "execution_count": null,
   "id": "dcca0d3d",
   "metadata": {},
   "outputs": [],
   "source": []
  },
  {
   "cell_type": "code",
   "execution_count": 24,
   "id": "fb6f01da",
   "metadata": {},
   "outputs": [],
   "source": [
    "# Q6: What is a null and alternative hypothesis? Give some examples."
   ]
  },
  {
   "cell_type": "raw",
   "id": "630b5976",
   "metadata": {},
   "source": [
    "Null hypothesis(H0): There’s no effect in the population.\n",
    "Alternative hypothesis(H1): There’s an effect in the population.\n",
    "    \n",
    "    \n",
    "A null hypothesis is a statement, in which there is no relationship between two variables.\n",
    "An alternative hypothesis is statement in which there is some statistical significance between two measured phenomenon.\n",
    "\n",
    "\n",
    "\n",
    "A null hypothesis is a statistical hypothesis in which there is no significant difference exist between the set of variables. It is the original or default statement, with no effect, often represented by H0 (H-zero). It is always the hypothesis that is tested. It denotes the certain value of population parameter such as µ, s, p. A null hypothesis can be rejected, but it cannot be accepted just on the basis of a single test.\n",
    "\n",
    "\n",
    "A statistical hypothesis used in hypothesis testing, which states that there is a significant difference between the set of variables. It is often referred to as the hypothesis other than the null hypothesis, often denoted by H1 (H-one). It is what the researcher seeks to prove in an indirect way, by using the test. It refers to a certain value of sample statistic, e.g., x¯, s, p\n",
    "\n",
    "The acceptance of alternative hypothesis depends on the rejection of the null hypothesis i.e. until and unless null hypothesis is rejected, an alternative hypothesis cannot be accepted.\n",
    "\n",
    "\n",
    "\n",
    "\n",
    "\n",
    "Example 1: (H0):-Suppose you want to test whether a new drug is effective in reducing blood pressure. The null hypothesis (H0) could be: \"The new drug has no effect on reducing blood pressure,\" which implies that the drug's effect is no different from a placebo.\n",
    "\n",
    "(H1):-In the drug effectiveness example, the alternative hypothesis (Ha) could be: \"The new drug significantly reduces blood pressure,\" indicating that there is a measurable effect of the drug.\n",
    "\n",
    "\n",
    "\n",
    "\n",
    "- Null Hypothesis (H0): The new drug has no effect on reducing cholesterol levels in patients.\n",
    "\n",
    "- Alternative Hypothesis (Ha): The new drug significantly reduces cholesterol levels in patients.\n",
    "\n",
    "\n"
   ]
  },
  {
   "cell_type": "code",
   "execution_count": null,
   "id": "df7a8d78",
   "metadata": {},
   "outputs": [],
   "source": []
  },
  {
   "cell_type": "code",
   "execution_count": 25,
   "id": "6f2b0395",
   "metadata": {},
   "outputs": [],
   "source": [
    "# Q7: Write down the steps involved in hypothesis testing."
   ]
  },
  {
   "cell_type": "markdown",
   "id": "7e3c4500",
   "metadata": {},
   "source": [
    "Step 1:-\n",
    "\n",
    "- Null Hypothesis (H0): State the null hypothesis, which represents the default or no-effect assumption.\n",
    "\n",
    "Step 2:- \n",
    "- Alternative Hypothesis (Ha or H1): State the alternative hypothesis, which represents what you hope to find evidence for.\n",
    "\n",
    "\n",
    "Step 3:- \n",
    "Set(α):\n",
    "\n",
    "Choose a significance level (α), typically set at 0.05 (5%) or 0.01 (1%). This determines the threshold for considering results statistically significant.\n",
    "\n",
    "Step 4:-\n",
    "Collect Data:\n",
    "\n",
    "Collect relevant data through experiments, surveys, or observations.\n",
    "\n",
    "\n",
    "Step 5:-\n",
    "Choose a Statistical Test:\n",
    "\n",
    "Select an appropriate statistical test based on the data type and research question (e.g., t-test, chi-square test, ANOVA, etc.).\n",
    "\n",
    "Step 6:-\n",
    "Calculate Test Statistic:\n",
    "\n",
    "Compute the test statistic specific to the chosen statistical test. The test statistic quantifies the difference between sample data and what would be expected under the null hypothesis.\n",
    "    \n",
    "    \n",
    "Step 7:\n",
    "Construct Acceptance / Rejection regions\n",
    "\n",
    "\n",
    "Based on steps 6 and 7:-\n",
    "\n",
    "draw a conclusion about H0"
   ]
  },
  {
   "cell_type": "code",
   "execution_count": null,
   "id": "2a14be07",
   "metadata": {},
   "outputs": [],
   "source": []
  },
  {
   "cell_type": "code",
   "execution_count": 26,
   "id": "4e4ce085",
   "metadata": {},
   "outputs": [],
   "source": [
    "# Q8. Define p-value and explain its significance in hypothesis testing."
   ]
  },
  {
   "cell_type": "markdown",
   "id": "c15cc1ce",
   "metadata": {},
   "source": [
    "The p-value, short for \"probability value,\" is a statistical measure used in hypothesis testing to determine the significance of the results obtained from a sample data set. It quantifies the probability of observing results as extreme as, or more extreme than, the ones observed if the null hypothesis (H0) is true. In simpler terms, the p-value assesses the evidence against the null hypothesis.\n",
    "\n",
    "\n",
    "## Significance in Hypothesis Testing:\n",
    "\n",
    "\n",
    "Assessing Evidence:\n",
    "\n",
    "A small p-value (typically less than the chosen significance level α) suggests that the observed results are unlikely to occur by random chance alone if the null hypothesis is true. This indicates strong evidence against the null hypothesis\n",
    "\n",
    "\n",
    "\n",
    "Decision Making:\n",
    "\n",
    "Hypothesis testing involves making a decision about whether to reject the null hypothesis or fail to reject it.\n",
    "If p-value < α (the chosen significance level), you reject the null hypothesis, concluding that there is significant evidence in favor of the alternative hypothesis (Ha).\n",
    "If p-value ≥ α, you fail to reject the null hypothesis, indicating that there is not enough evidence to support the alternative hypothesis.\n",
    "\n",
    "\n",
    "Interpretation:\n",
    "\n",
    "The p-value provides a quantitative measure of the evidence against the null hypothesis.\n",
    "A p-value close to 0 suggests strong evidence against H0.\n",
    "A p-value close to 1 suggests weak evidence against H0, meaning that the data are consistent with the null hypothesis.\n",
    "\n",
    "and so on......."
   ]
  },
  {
   "cell_type": "code",
   "execution_count": null,
   "id": "bd7151c3",
   "metadata": {},
   "outputs": [],
   "source": []
  },
  {
   "cell_type": "markdown",
   "id": "285b8b89",
   "metadata": {},
   "source": [
    "# Q9. Generate a Student's t-distribution plot using Python's matplotlib library, with the degrees of freedom parameter set to 10."
   ]
  },
  {
   "cell_type": "code",
   "execution_count": 60,
   "id": "2ff02087",
   "metadata": {},
   "outputs": [
    {
     "data": {
      "image/png": "[encoded data removed]",
      "text/plain": [
       "<Figure size 800x500 with 1 Axes>"
      ]
     },
     "metadata": {},
     "output_type": "display_data"
    }
   ],
   "source": [
    "import numpy as np\n",
    "import matplotlib.pyplot as plt\n",
    "from scipy.stats import t\n",
    "\n",
    "# Set the degrees of freedom\n",
    "degrees_of_freedom = 10\n",
    "\n",
    "# Create an array of x-values\n",
    "x = np.linspace(-3, 3, 300)\n",
    "            \n",
    "\n",
    "# Calculate the PDF values using the Student's t-distribution\n",
    "pdf_values = t.pdf(x,df=degrees_of_freedom)\n",
    "\n",
    "# Create the plot\n",
    "plt.figure(figsize=(8, 5))\n",
    "plt.plot(x, pdf_values, label=f't-distribution (df={degrees_of_freedom})', color='blue')\n",
    "plt.title(\"Student's t-Distribution\")\n",
    "plt.xlabel('x')\n",
    "plt.ylabel('Probability Density')\n",
    "plt.legend()\n",
    "plt.grid(True)\n",
    "\n",
    "# Show the plot\n",
    "plt.show()\n"
   ]
  },
  {
   "cell_type": "code",
   "execution_count": 62,
   "id": "419d466c",
   "metadata": {
    "scrolled": true
   },
   "outputs": [
    {
     "name": "stdout",
     "output_type": "stream",
     "text": [
      "[-3.         -2.97993311 -2.95986622 -2.93979933 -2.91973244 -2.89966555\n",
      " -2.87959866 -2.85953177 -2.83946488 -2.81939799 -2.7993311  -2.77926421\n",
      " -2.75919732 -2.73913043 -2.71906355 -2.69899666 -2.67892977 -2.65886288\n",
      " -2.63879599 -2.6187291  -2.59866221 -2.57859532 -2.55852843 -2.53846154\n",
      " -2.51839465 -2.49832776 -2.47826087 -2.45819398 -2.43812709 -2.4180602\n",
      " -2.39799331 -2.37792642 -2.35785953 -2.33779264 -2.31772575 -2.29765886\n",
      " -2.27759197 -2.25752508 -2.23745819 -2.2173913  -2.19732441 -2.17725753\n",
      " -2.15719064 -2.13712375 -2.11705686 -2.09698997 -2.07692308 -2.05685619\n",
      " -2.0367893  -2.01672241 -1.99665552 -1.97658863 -1.95652174 -1.93645485\n",
      " -1.91638796 -1.89632107 -1.87625418 -1.85618729 -1.8361204  -1.81605351\n",
      " -1.79598662 -1.77591973 -1.75585284 -1.73578595 -1.71571906 -1.69565217\n",
      " -1.67558528 -1.65551839 -1.63545151 -1.61538462 -1.59531773 -1.57525084\n",
      " -1.55518395 -1.53511706 -1.51505017 -1.49498328 -1.47491639 -1.4548495\n",
      " -1.43478261 -1.41471572 -1.39464883 -1.37458194 -1.35451505 -1.33444816\n",
      " -1.31438127 -1.29431438 -1.27424749 -1.2541806  -1.23411371 -1.21404682\n",
      " -1.19397993 -1.17391304 -1.15384615 -1.13377926 -1.11371237 -1.09364548\n",
      " -1.0735786  -1.05351171 -1.03344482 -1.01337793 -0.99331104 -0.97324415\n",
      " -0.95317726 -0.93311037 -0.91304348 -0.89297659 -0.8729097  -0.85284281\n",
      " -0.83277592 -0.81270903 -0.79264214 -0.77257525 -0.75250836 -0.73244147\n",
      " -0.71237458 -0.69230769 -0.6722408  -0.65217391 -0.63210702 -0.61204013\n",
      " -0.59197324 -0.57190635 -0.55183946 -0.53177258 -0.51170569 -0.4916388\n",
      " -0.47157191 -0.45150502 -0.43143813 -0.41137124 -0.39130435 -0.37123746\n",
      " -0.35117057 -0.33110368 -0.31103679 -0.2909699  -0.27090301 -0.25083612\n",
      " -0.23076923 -0.21070234 -0.19063545 -0.17056856 -0.15050167 -0.13043478\n",
      " -0.11036789 -0.090301   -0.07023411 -0.05016722 -0.03010033 -0.01003344\n",
      "  0.01003344  0.03010033  0.05016722  0.07023411  0.090301    0.11036789\n",
      "  0.13043478  0.15050167  0.17056856  0.19063545  0.21070234  0.23076923\n",
      "  0.25083612  0.27090301  0.2909699   0.31103679  0.33110368  0.35117057\n",
      "  0.37123746  0.39130435  0.41137124  0.43143813  0.45150502  0.47157191\n",
      "  0.4916388   0.51170569  0.53177258  0.55183946  0.57190635  0.59197324\n",
      "  0.61204013  0.63210702  0.65217391  0.6722408   0.69230769  0.71237458\n",
      "  0.73244147  0.75250836  0.77257525  0.79264214  0.81270903  0.83277592\n",
      "  0.85284281  0.8729097   0.89297659  0.91304348  0.93311037  0.95317726\n",
      "  0.97324415  0.99331104  1.01337793  1.03344482  1.05351171  1.0735786\n",
      "  1.09364548  1.11371237  1.13377926  1.15384615  1.17391304  1.19397993\n",
      "  1.21404682  1.23411371  1.2541806   1.27424749  1.29431438  1.31438127\n",
      "  1.33444816  1.35451505  1.37458194  1.39464883  1.41471572  1.43478261\n",
      "  1.4548495   1.47491639  1.49498328  1.51505017  1.53511706  1.55518395\n",
      "  1.57525084  1.59531773  1.61538462  1.63545151  1.65551839  1.67558528\n",
      "  1.69565217  1.71571906  1.73578595  1.75585284  1.77591973  1.79598662\n",
      "  1.81605351  1.8361204   1.85618729  1.87625418  1.89632107  1.91638796\n",
      "  1.93645485  1.95652174  1.97658863  1.99665552  2.01672241  2.0367893\n",
      "  2.05685619  2.07692308  2.09698997  2.11705686  2.13712375  2.15719064\n",
      "  2.17725753  2.19732441  2.2173913   2.23745819  2.25752508  2.27759197\n",
      "  2.29765886  2.31772575  2.33779264  2.35785953  2.37792642  2.39799331\n",
      "  2.4180602   2.43812709  2.45819398  2.47826087  2.49832776  2.51839465\n",
      "  2.53846154  2.55852843  2.57859532  2.59866221  2.6187291   2.63879599\n",
      "  2.65886288  2.67892977  2.69899666  2.71906355  2.73913043  2.75919732\n",
      "  2.77926421  2.7993311   2.81939799  2.83946488  2.85953177  2.87959866\n",
      "  2.89966555  2.91973244  2.93979933  2.95986622  2.97993311  3.        ]\n"
     ]
    }
   ],
   "source": [
    "print(np.linspace(-3,3,300))"
   ]
  },
  {
   "cell_type": "code",
   "execution_count": null,
   "id": "7b16e075",
   "metadata": {},
   "outputs": [],
   "source": []
  },
  {
   "cell_type": "markdown",
   "id": "2489045e",
   "metadata": {},
   "source": [
    "# Q10. Write a Python program to calculate the two-sample t-test for independent samples, given two random samples of equal size and a null hypothesis that the population means are equal."
   ]
  },
  {
   "cell_type": "code",
   "execution_count": 93,
   "id": "b5ac3cf1",
   "metadata": {
    "scrolled": true
   },
   "outputs": [
    {
     "name": "stdout",
     "output_type": "stream",
     "text": [
      "Sample 1 Mean: 0.01\n",
      "Sample 2 Mean: 0.01\n",
      "T-Statistic: -0.0627\n",
      "P-Value: 0.9500\n",
      "Fail to reject the null hypothesis: There is no significant difference in means.\n"
     ]
    }
   ],
   "source": [
    "import numpy as np\n",
    "from scipy import stats\n",
    "\n",
    "# Generate two random samples of equal size (replace with your data)\n",
    "sample1 = np.random.randn(550)  # Sample 1 with 550 data points\n",
    "sample2 = np.random.randn(550)  # Sample 2 with 550 data points\n",
    "\n",
    "# Perform a two-sample independent t-test (assuming equal variances)\n",
    "t_statistic, p_value = stats.ttest_ind(sample1, sample2, equal_var=True)\n",
    "\n",
    "# Set the significance level (alpha)\n",
    "alpha = 0.07\n",
    "\n",
    "# Print the results\n",
    "print(f\"Sample 1 Mean: {np.mean(sample1):.2f}\")\n",
    "print(f\"Sample 2 Mean: {np.mean(sample2):.2f}\")\n",
    "print(f\"T-Statistic: {t_statistic:.4f}\")\n",
    "print(f\"P-Value: {p_value:.4f}\")\n",
    "\n",
    "# Check if the p-value is less than alpha\n",
    "if p_value < alpha:\n",
    "    print(\"Reject the null hypothesis: The population means are not equal.\")\n",
    "else:\n",
    "    print(\"Fail to reject the null hypothesis: There is no significant difference in means.\")\n"
   ]
  },
  {
   "cell_type": "code",
   "execution_count": null,
   "id": "bce71098",
   "metadata": {},
   "outputs": [],
   "source": []
  },
  {
   "cell_type": "code",
   "execution_count": 94,
   "id": "14e9418d",
   "metadata": {},
   "outputs": [],
   "source": [
    "# Q11: What is Student’s t distribution? When to use the t-Distribution"
   ]
  },
  {
   "cell_type": "markdown",
   "id": "5d3831ba",
   "metadata": {},
   "source": [
    "Student’s t-distribution, also known as the t-distribution, is a probability distribution that is used in statistics for making inferences about the population mean when the sample size is small or when the population standard deviation is unknown.\n",
    "\n",
    "\n",
    "t-Distribution is used when: \n",
    "\n",
    "The sample size is 30 or less than 30.\n",
    "The population standard deviation(σ) is unknown.\n",
    "The population distribution must be unimodal and skewed."
   ]
  },
  {
   "cell_type": "code",
   "execution_count": null,
   "id": "e1b05e53",
   "metadata": {},
   "outputs": [],
   "source": []
  },
  {
   "cell_type": "code",
   "execution_count": 95,
   "id": "0d6f654c",
   "metadata": {},
   "outputs": [],
   "source": [
    "# Q12: What is t-statistic? State the formula for t-statistic."
   ]
  },
  {
   "cell_type": "markdown",
   "id": "19599f01",
   "metadata": {},
   "source": [
    "The t-statistic, also known as the t-value or Student's t-statistic, is a statistic used in hypothesis testing to assess the difference between a sample statistic (such as the sample mean) and a population parameter (such as the population mean) when the population standard deviation is unknown. The t-statistic measures how many standard errors the sample statistic is away from the hypothesized population parameter.\n",
    "\n",
    "### t_statistic = (sample_mean - hypothesized_mean) / (sample_std_dev / np.sqrt(sample_size))\n",
    "\n",
    "\n",
    "\n"
   ]
  },
  {
   "cell_type": "code",
   "execution_count": 101,
   "id": "e0e189c5",
   "metadata": {},
   "outputs": [
    {
     "name": "stdout",
     "output_type": "stream",
     "text": [
      "t-statistic: 0.4406\n"
     ]
    }
   ],
   "source": [
    "import numpy as np\n",
    "from scipy import stats\n",
    "\n",
    "# Sample data\n",
    "sample_data = np.array([23.4, 25.1, 24.8, 26.3, 25.9, 24.7, 26.0, 24.5, 25.6, 24.9])\n",
    "\n",
    "# Hypothesized population mean (usually from the null hypothesis)\n",
    "hypothesized_mean = 25.0\n",
    "\n",
    "# Calculate the sample mean and standard error\n",
    "sample_mean = np.mean(sample_data)\n",
    "sample_std_dev = np.std(sample_data, ddof=1)  # ddof=1 for sample standard deviation\n",
    "sample_size = len(sample_data)\n",
    "\n",
    "# Calculate the t-statistic\n",
    "t_statistic = (sample_mean - hypothesized_mean) / (sample_std_dev / np.sqrt(sample_size))\n",
    "\n",
    "# Display the t-statistic\n",
    "print(f\"t-statistic: {t_statistic:.4f}\")\n"
   ]
  },
  {
   "cell_type": "code",
   "execution_count": null,
   "id": "7fdd213b",
   "metadata": {},
   "outputs": [],
   "source": []
  },
  {
   "cell_type": "markdown",
   "id": "35a40a2b",
   "metadata": {},
   "source": [
    "`Q13. A coffee shop owner wants to estimate the average daily revenue for their shop. They take a random sample of 50 days and find the sample mean revenue to be $500 with a standard deviation of $50.\n",
    "Estimate the population mean revenue with a 95% confidence interval.`"
   ]
  },
  {
   "cell_type": "code",
   "execution_count": 109,
   "id": "14f9fa6f",
   "metadata": {},
   "outputs": [
    {
     "name": "stdout",
     "output_type": "stream",
     "text": [
      "95% Confidence Interval for Population Mean Revenue: ($486.14, $513.86)\n"
     ]
    }
   ],
   "source": [
    "sample_size = 50\n",
    "sample_mean = 500\n",
    "sample_std_dev=50\n",
    "# Confidence level (95%)\n",
    "confidence_level =0.95\n",
    "\n",
    "\n",
    "# Calculate the critical value (Z) for a 95% confidence interval\n",
    "# Using the standard normal distribution (z-table or scipy.stats.norm.ppf)\n",
    "critical_value = np.abs(stats.norm.ppf((1 - confidence_level) / 2))\n",
    "\n",
    "# Calculate the margin of error\n",
    "margin_of_error = critical_value * (sample_std_dev / np.sqrt(sample_size))\n",
    "\n",
    "# Calculate the confidence interval\n",
    "lower_limit = sample_mean - margin_of_error\n",
    "upper_limit = sample_mean + margin_of_error\n",
    "\n",
    "# Print the confidence interval\n",
    "print(f\"95% Confidence Interval for Population Mean Revenue: (${lower_limit:.2f}, ${upper_limit:.2f})\")\n"
   ]
  },
  {
   "cell_type": "code",
   "execution_count": null,
   "id": "5419a4ff",
   "metadata": {},
   "outputs": [],
   "source": []
  },
  {
   "cell_type": "markdown",
   "id": "7496f8ce",
   "metadata": {},
   "source": [
    "## Q14. A researcher hypothesizes that a new drug will decrease blood pressure by 10 mmHg. They conduct a clinical trial with 100 patients and find that the sample mean decrease in blood pressure is 8 mmHg with a standard deviation of 3 mmHg. Test the hypothesis with a significance level of 0.05."
   ]
  },
  {
   "cell_type": "code",
   "execution_count": 116,
   "id": "1f0d8832",
   "metadata": {},
   "outputs": [
    {
     "name": "stdout",
     "output_type": "stream",
     "text": [
      "Sample Mean: 8\n",
      "Hypothesized Mean: 10\n",
      "T-Statistic: -7.9667\n",
      "P-Value: 0.0000\n",
      "Reject the null hypothesis: The drug has a significant effect on decreasing blood pressure.\n"
     ]
    }
   ],
   "source": [
    "import numpy as np\n",
    "from scipy import stats\n",
    "\n",
    "\n",
    "# Sample data\n",
    "sample_size =100\n",
    "sample_mean = 8\n",
    "sample_std_dev = 3\n",
    "hypothesized_mean = 10\n",
    "\n",
    "\n",
    "# Perform a one-sample t-test\n",
    "t_statistic, p_value = stats.ttest_1samp(np.random.normal(sample_mean, sample_std_dev, sample_size), hypothesized_mean)\n",
    "\n",
    "\n",
    "# Set the significance level\n",
    "alpha = 0.05\n",
    "\n",
    "\n",
    "# Print the results\n",
    "print(f\"Sample Mean: {sample_mean}\")\n",
    "print(f\"Hypothesized Mean: {hypothesized_mean}\")\n",
    "print(f\"T-Statistic: {t_statistic:.4f}\")\n",
    "print(f\"P-Value: {p_value:.4f}\")\n",
    "\n",
    "# Check if the p-value is less than alpha\n",
    "if p_value < alpha:\n",
    "    print(\"Reject the null hypothesis: The drug has a significant effect on decreasing blood pressure.\")\n",
    "else:\n",
    "    print(\"Fail to reject the null hypothesis: The drug does not have a significant effect on decreasing blood pressure.\")\n"
   ]
  },
  {
   "cell_type": "code",
   "execution_count": null,
   "id": "b3fecac1",
   "metadata": {},
   "outputs": [],
   "source": []
  },
  {
   "cell_type": "raw",
   "id": "68ee41a7",
   "metadata": {},
   "source": [
    "Q15. An electronics company produces a certain type of product with a mean weight of 5 pounds and a\n",
    "standard deviation of 0.5 pounds. A random sample of 25 products is taken, and the sample mean weight\n",
    "is found to be 4.8 pounds. Test the hypothesis that the true mean weight of the products is less than 5\n",
    "pounds with a significance level of 0.01."
   ]
  },
  {
   "cell_type": "code",
   "execution_count": 122,
   "id": "651472dd",
   "metadata": {},
   "outputs": [
    {
     "name": "stdout",
     "output_type": "stream",
     "text": [
      "Sample Mean: 4.8\n",
      "Hypothesized Mean: 5\n",
      "Population Standard Deviation: 0.5\n",
      "Sample Size: 25\n",
      "Calculated t-Statistic: -2.0000\n",
      "Critical t-Value: -2.4922\n",
      "Fail to reject the null hypothesis: There is not enough evidence to conclude that the true mean weight is less than 5 pounds.\n"
     ]
    }
   ],
   "source": [
    "import numpy as np\n",
    "from scipy import stats\n",
    "\n",
    "#sample data\n",
    "population_mean =5\n",
    "population_std_dev = 0.5\n",
    "sample_size = 25\n",
    "sample_mean = 4.8\n",
    "\n",
    "\n",
    "# Calculate the t-statistic\n",
    "t_statistic = (sample_mean - population_mean) / (population_std_dev / np.sqrt(sample_size))\n",
    "\n",
    "#set the significance level\n",
    "alpha = 0.01\n",
    "\n",
    "\n",
    "# Degrees of freedom\n",
    "df = sample_size - 1\n",
    "\n",
    "# Calculate the critical t-value for a left-tailed test\n",
    "critical_t_value = stats.t.ppf(alpha, df)\n",
    "\n",
    "# Print the results\n",
    "print(f\"Sample Mean: {sample_mean}\")\n",
    "print(f\"Hypothesized Mean: {population_mean}\")\n",
    "print(f\"Population Standard Deviation: {population_std_dev}\")\n",
    "print(f\"Sample Size: {sample_size}\")\n",
    "print(f\"Calculated t-Statistic: {t_statistic:.4f}\")\n",
    "print(f\"Critical t-Value: {critical_t_value:.4f}\")\n",
    "\n",
    "# Make a decision based on the test\n",
    "if t_statistic <= critical_t_value:\n",
    "    print(\"Reject the null hypothesis: The true mean weight is less than 5 pounds.\")\n",
    "else:\n",
    "    print(\"Fail to reject the null hypothesis: There is not enough evidence to conclude that the true mean weight is less than 5 pounds.\")\n"
   ]
  },
  {
   "cell_type": "code",
   "execution_count": null,
   "id": "950afb1f",
   "metadata": {},
   "outputs": [],
   "source": []
  },
  {
   "cell_type": "raw",
   "id": "c805aeb5",
   "metadata": {},
   "source": [
    "Q16. Two groups of students are given different study materials to prepare for a test. The first group (n1 =\n",
    "30) has a mean score of 80 with a standard deviation of 10, and the second group (n2 = 40) has a mean\n",
    "score of 75 with a standard deviation of 8. Test the hypothesis that the population means for the two\n",
    "groups are equal with a significance level of 0.01."
   ]
  },
  {
   "cell_type": "code",
   "execution_count": 124,
   "id": "136fb4dd",
   "metadata": {},
   "outputs": [
    {
     "name": "stdout",
     "output_type": "stream",
     "text": [
      "Sample 1 Mean: 80\n",
      "Sample 2 Mean: 75\n",
      "Sample 1 Standard Deviation: 10\n",
      "Sample 2 Standard Deviation: 8\n",
      "Sample 1 Size: 30\n",
      "Sample 2 Size: 40\n",
      "Calculated Test Statistic: 2.2511\n",
      "Critical t-Value: 2.6696\n",
      "Fail to reject the null hypothesis: There is not enough evidence to conclude that the population means are different.\n"
     ]
    }
   ],
   "source": [
    "import numpy as np\n",
    "from scipy import stats\n",
    "\n",
    "# Data for Group 1\n",
    "n1 = 30\n",
    "mean1 = 80\n",
    "std_dev1 = 10\n",
    "\n",
    "# Data for Group 2\n",
    "n2 = 40\n",
    "mean2 = 75\n",
    "std_dev2 = 8\n",
    "\n",
    "# Significance level\n",
    "alpha = 0.01\n",
    "\n",
    "# Calculate the test statistic\n",
    "test_statistic, p_value = stats.ttest_ind_from_stats(\n",
    "    mean1, std_dev1, n1, mean2, std_dev2, n2, equal_var=False  # Assuming unequal variances\n",
    ")\n",
    "\n",
    "# Calculate degrees of freedom\n",
    "df = (std_dev1 ** 2 / n1 + std_dev2 ** 2 / n2) ** 2 / (\n",
    "    (std_dev1 ** 4 / (n1 ** 2 * (n1 - 1))) + (std_dev2 ** 4 / (n2 ** 2 * (n2 - 1)))\n",
    ")\n",
    "\n",
    "# Calculate critical t-value for a two-tailed test\n",
    "critical_t_value = stats.t.ppf(1 - alpha / 2, df)\n",
    "\n",
    "# Print the results\n",
    "print(f\"Sample 1 Mean: {mean1}\")\n",
    "print(f\"Sample 2 Mean: {mean2}\")\n",
    "print(f\"Sample 1 Standard Deviation: {std_dev1}\")\n",
    "print(f\"Sample 2 Standard Deviation: {std_dev2}\")\n",
    "print(f\"Sample 1 Size: {n1}\")\n",
    "print(f\"Sample 2 Size: {n2}\")\n",
    "print(f\"Calculated Test Statistic: {test_statistic:.4f}\")\n",
    "print(f\"Critical t-Value: {critical_t_value:.4f}\")\n",
    "\n",
    "# Make a decision based on the test\n",
    "if abs(test_statistic) >= critical_t_value:\n",
    "    print(\"Reject the null hypothesis: The population means are not equal.\")\n",
    "else:\n",
    "    print(\"Fail to reject the null hypothesis: There is not enough evidence to conclude that the population means are different.\")\n"
   ]
  },
  {
   "cell_type": "code",
   "execution_count": null,
   "id": "1c8b7eef",
   "metadata": {},
   "outputs": [],
   "source": []
  },
  {
   "cell_type": "raw",
   "id": "8a43ccef",
   "metadata": {},
   "source": [
    "Q17. A marketing company wants to estimate the average number of ads watched by viewers during a TV\n",
    "program. They take a random sample of 50 viewers and find that the sample mean is 4 with a standard\n",
    "deviation of 1.5. Estimate the population mean with a 99% confidence interval"
   ]
  },
  {
   "cell_type": "code",
   "execution_count": 125,
   "id": "0f7788d9",
   "metadata": {},
   "outputs": [
    {
     "name": "stdout",
     "output_type": "stream",
     "text": [
      "99% Confidence Interval: (3.45, 4.55)\n"
     ]
    }
   ],
   "source": [
    "import scipy.stats as stats\n",
    "import numpy as np\n",
    "\n",
    "# Sample mean, standard deviation, and size\n",
    "sample_mean = 4\n",
    "sample_std_dev = 1.5\n",
    "sample_size = 50\n",
    "\n",
    "# Desired confidence level\n",
    "confidence_level = 0.99\n",
    "\n",
    "# Calculate the critical Z-value for a 99% confidence level\n",
    "critical_z_value = stats.norm.ppf((1 + confidence_level) / 2)\n",
    "\n",
    "# Calculate the margin of error\n",
    "margin_of_error = critical_z_value * (sample_std_dev / np.sqrt(sample_size))\n",
    "\n",
    "# Calculate the lower and upper bounds of the confidence interval\n",
    "lower_bound = sample_mean - margin_of_error\n",
    "upper_bound = sample_mean + margin_of_error\n",
    "\n",
    "# Print the confidence interval\n",
    "print(f\"99% Confidence Interval: ({lower_bound:.2f}, {upper_bound:.2f})\")\n"
   ]
  },
  {
   "cell_type": "code",
   "execution_count": null,
   "id": "05d62590",
   "metadata": {},
   "outputs": [],
   "source": []
  }
 ],
 "metadata": {
  "kernelspec": {
   "display_name": "Python 3 (ipykernel)",
   "language": "python",
   "name": "python3"
  },
  "language_info": {
   "codemirror_mode": {
    "name": "ipython",
    "version": 3
   },
   "file_extension": ".py",
   "mimetype": "text/x-python",
   "name": "python",
   "nbconvert_exporter": "python",
   "pygments_lexer": "ipython3",
   "version": "3.9.12"
  }
 },
 "nbformat": 4,
 "nbformat_minor": 5
}
